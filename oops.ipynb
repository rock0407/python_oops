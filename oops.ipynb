{
 "cells": [
  {
   "cell_type": "markdown",
   "id": "52bd86a0-9ca3-4bc8-95aa-32cb262d16d2",
   "metadata": {},
   "source": [
    "1. What is Object-Oriented Programming (OOP)?\r",
    "-->\r\n",
    "Object-Oriented Programmin) is a programming paradigm that uses \"objects\" to represent data and methods to manipulate that data. It emphasizes concepts such as encapsulation, inheritance, and polymorphislass to be called as a function. It enables the object to behave like a callable function."
   ]
  },
  {
   "cell_type": "markdown",
   "id": "68c380a0-494e-4cbe-a569-d6e0daf2dd0e",
   "metadata": {},
   "source": [
    "2. What is a class in OOP?\n",
    "-->A class in OOP is a blueprint for creating objects. It defines a set of attributes and methods that the created objects (instances) will have.\n"
   ]
  },
  {
   "cell_type": "markdown",
   "id": "81c90b50-ad14-4f23-a0fd-7898e8fe7745",
   "metadata": {},
   "source": [
    "3. What is an object in OOP?\n",
    "-->An object is an instance of a class. It is a self-contained unit that consists of both data (attributes) and methods (functions) that operate on the data.\n"
   ]
  },
  {
   "cell_type": "markdown",
   "id": "0aae7ba2-17fd-4937-a383-92143e52e2c2",
   "metadata": {},
   "source": [
    "4. What is the difference between abstraction and encapsulation?\n",
    "-->Abstraction is the concept of hiding the complex reality while exposing only the necessary parts. Encapsulation is the bundling of data and methods that operate on that data within one unit, restricting access to some of the object's components."
   ]
  },
  {
   "cell_type": "markdown",
   "id": "d6cf14c0-ef5b-4c26-8d4c-a52ccd9d35da",
   "metadata": {},
   "source": [
    "5. What are dunder methods in Python?\n",
    "-->Dunder methods, or \"double underscore\" methods, are special methods in Python that start and end with double underscores. They allow you to define the behavior of objects for built-in operations."
   ]
  },
  {
   "cell_type": "markdown",
   "id": "f3a60ce0-36ee-42da-bd31-ffe246902230",
   "metadata": {},
   "source": [
    "6. Explain the concept of inheritance in OOP.\n",
    "-->Inheritance is a mechanism in OOP that allows a new class (child class) to inherit attributes and methods from an existing class (parent class). This promotes code reusability and establishes a relationship between classes."
   ]
  },
  {
   "cell_type": "markdown",
   "id": "fedd0550-05e0-4eca-bdfa-b94ef8e175db",
   "metadata": {},
   "source": [
    "7. What is polymorphism in OOP?\n",
    "-->Polymorphism is the ability of different classes to be treated as instances of the same class through a common interface. It allows methods to do different things based on the object it is acting upon."
   ]
  },
  {
   "cell_type": "markdown",
   "id": "3ab42b09-2912-4c99-b470-d15f43c03bdf",
   "metadata": {},
   "source": [
    "8. How is encapsulation achieved in Python?\r",
    "-->\r\n",
    "Encapsulation in Python is achieved by using private and protected access modifiers. Attributes can be made private by prefixing them with double underscores, restricting access from outside the class."
   ]
  },
  {
   "cell_type": "markdown",
   "id": "eef66f12-5cf4-4cbe-aa23-fd1b8aa7e131",
   "metadata": {},
   "source": [
    "9. What is a constructor in Python?\n",
    "-->A constructor in Python is a special method called __init__ that is automatically invoked when an object is created. It is used to initialize the object's attributes."
   ]
  },
  {
   "cell_type": "markdown",
   "id": "76a8457f-30e8-4970-9b8b-e9a28e105d3c",
   "metadata": {},
   "source": [
    "10. What are class and static methods in Python?\n",
    "-->Class methods are methods that are bound to the class and not the instance of the class. They are defined using the @classmethod decorator. Static methods are methods that do not modify class or instance state and are defined using the @staticmethod decorator."
   ]
  },
  {
   "cell_type": "markdown",
   "id": "979a149c-60c0-4be2-91ce-252e87fc82a1",
   "metadata": {},
   "source": [
    "11. What is method overloading in Python?\n",
    "-->Method overloading is the ability to define multiple methods with the same name but different parameters. However, Python does not support method overloading in the traditional sense; instead, it allows default parameters and variable-length arguments."
   ]
  },
  {
   "cell_type": "markdown",
   "id": "5ec49446-2362-496e-9ae7-81cf1622a2ef",
   "metadata": {},
   "source": [
    "12. What is method overriding in OOP?\n",
    "-->Method overriding occurs when a child class provides a specific implementation of a method that is already defined in its parent class. This allows the child class to modify or extend the behavior of the parent class method."
   ]
  },
  {
   "cell_type": "markdown",
   "id": "1be7ea67-9d49-4051-bb86-8d9671690278",
   "metadata": {},
   "source": [
    "13. What is a property decorator in Python?\n",
    "-->The property decorator in Python is used to define a method as a property, allowing you to access it like an attribute. It provides a way to manage the access to instance attributes."
   ]
  },
  {
   "cell_type": "markdown",
   "id": "130c0065-6ef5-40fe-89e6-2506a79ef4d8",
   "metadata": {},
   "source": [
    "14. Why is polymorphism important in OOP?\n",
    "-->Polymorphism is important in OOP because it allows for flexibility and the ability to use a unified interface for different data types. This leads to more maintainable and extensible code."
   ]
  },
  {
   "cell_type": "markdown",
   "id": "fa2ca77a-f1a9-4674-babb-021c7bbf9c35",
   "metadata": {},
   "source": [
    "15. What is an abstract class in Python?\n",
    "-->An abstract class in Python is a class that cannot be instantiated and is meant to be subclassed. It can contain abstract methods that must be implemented by derived classes."
   ]
  },
  {
   "cell_type": "markdown",
   "id": "11713485-52dd-4f4a-9e48-2e388e936c07",
   "metadata": {},
   "source": [
    "16. What are the advantages of OOP?\n",
    "-->Advantages of OOP include:\n",
    "Code reusability through inheritance.\n",
    "Improved maintainability and flexibility.\n",
    "Encapsulation of data and methods.\n",
    "Enhanced productivity through modular design."
   ]
  },
  {
   "cell_type": "markdown",
   "id": "a73ce93e-fc57-4e1b-859a-241e5b092c8e",
   "metadata": {},
   "source": [
    "17. What is the difference between a class variable and an instance variable?-->A class variable is shared among all instances of a class, while an instance variable is unique to each instance of the class."
   ]
  },
  {
   "cell_type": "markdown",
   "id": "f0a2dbb1-e2e2-4da5-adbe-97df894bbdb5",
   "metadata": {},
   "source": [
    "18. What is multiple inheritance in Python?\n",
    "-->Multiple inheritance in Python is a feature that allows a class to inherit from more than one parent class, enabling the derived class to access attributes and methods from multiple sources."
   ]
  },
  {
   "cell_type": "markdown",
   "id": "65ba8d69-9b0a-4bee-9611-895fd644cb55",
   "metadata": {},
   "source": [
    "19. Explain the purpose of __str__ and __repr__ methods in Python.\n",
    "-->The __str__ method is used to define a human-readable string representation of an object, while the __repr__ method is used to define an unambiguous string representation that can be used to recreate the object."
   ]
  },
  {
   "cell_type": "markdown",
   "id": "bdf27de0-2285-48f5-b652-92d8b5c7bd4f",
   "metadata": {},
   "source": [
    "20. What is the significance of the super() function in Python?\n",
    "-->The super() function is used to call methods from a parent class in a child class. It allows for method resolution order (MRO) and helps in accessing inherited methods.\n"
   ]
  },
  {
   "cell_type": "markdown",
   "id": "8ae80b39-85d8-4296-a330-bf4858515226",
   "metadata": {},
   "source": [
    "21. What is the significance of the __del__ method in Python?\n",
    "-->The __del__ method is a destructor method that is called when an object is about to be destroyed. It can be used to release resources or perform cleanup actions."
   ]
  },
  {
   "cell_type": "markdown",
   "id": "527762be-c963-4a80-9d88-2d0a9af5dc5c",
   "metadata": {},
   "source": [
    "22. What is the difference between @staticmethod and @classmethod in Python?\n",
    "-->@staticmethod defines a method that does not access or modify the class or instance state, while @classmethod defines a method that can access and modify the class state.\n"
   ]
  },
  {
   "cell_type": "markdown",
   "id": "935eabd1-cd7a-4da6-a297-1c905e67a8d0",
   "metadata": {},
   "source": [
    "23. How does polymorphism work in Python with inheritance?\n",
    "-->Polymorphism in Python with inheritance allows a derived class to override methods of a base class. When a method is called on an object, Python determines which method to execute based on the object's class."
   ]
  },
  {
   "cell_type": "markdown",
   "id": "22ce06ad-cfca-4b36-b40c-39636c3e1342",
   "metadata": {},
   "source": [
    "24. What is method chaining in Python OOP?\n",
    "-->Method chaining is a technique where multiple methods are called on the same object in a single statement. It is achieved by returning self from each method.\n"
   ]
  },
  {
   "cell_type": "markdown",
   "id": "42b875e6-3cec-4d01-8801-9f1e5e6d033d",
   "metadata": {},
   "source": [
    "25. What is the purpose of the __call__ method in Python?\n",
    "-->The __call__ method allows an instance of a class to be called as a function. It enables the object to behave like a callable function."
   ]
  },
  {
   "cell_type": "code",
   "execution_count": 18,
   "id": "9034e39f-1202-42da-a9ae-1ea1a5c47448",
   "metadata": {},
   "outputs": [],
   "source": [
    "# 1. Create a parent class Animal with a method speak() that prints a generic message.\n",
    "class Animal:\n",
    "    def speak(self):\n",
    "        print(\"Animal speaks\")\n",
    "\n",
    "# Create a child class Dog that overrides the speak() method to print \"Bark!\".\n",
    "class Dog(Animal):\n",
    "    def speak(self):\n",
    "        print(\"Bark!\")"
   ]
  },
  {
   "cell_type": "code",
   "execution_count": 2,
   "id": "1673f1cc-2526-423b-8cbe-243a937d836c",
   "metadata": {},
   "outputs": [],
   "source": [
    "# 2. Write a program to create an abstract class Shape with a method area().\n",
    "from abc import ABC, abstractmethod\n",
    "\n",
    "class Shape(ABC):\n",
    "    @abstractmethod\n",
    "    def area(self):\n",
    "        pass\n",
    "\n",
    "class Circle(Shape):\n",
    "    def __init__(self, radius):\n",
    "        self.radius = radius\n",
    "\n",
    "    def area(self):\n",
    "        return 3.14 * self.radius * self.radius\n",
    "\n",
    "class Rectangle(Shape):\n",
    "    def __init__(self, width, height):\n",
    "        self.width = width\n",
    "        self.height = height\n",
    "\n",
    "    def area(self):\n",
    "        return self.width * self.height"
   ]
  },
  {
   "cell_type": "code",
   "execution_count": 3,
   "id": "22393596-8deb-4158-96b5-272a063b474c",
   "metadata": {},
   "outputs": [],
   "source": [
    "# 3. Implement a multi-level inheritance scenario where a class Vehicle has an attribute type.\n",
    "class Vehicle:\n",
    "    def __init__(self, type):\n",
    "        self.type = type\n",
    "\n",
    "class Car(Vehicle):\n",
    "    def __init__(self, type, model):\n",
    "        super().__init__(type)\n",
    "        self.model = model\n",
    "\n",
    "class ElectricCar(Car):\n",
    "    def __init__(self, type, model, battery):\n",
    "        super().__init__(type, model)\n",
    "        self.battery = battery"
   ]
  },
  {
   "cell_type": "code",
   "execution_count": 4,
   "id": "9e862a71-b2ef-431a-b0b7-6d1c04f82b0e",
   "metadata": {},
   "outputs": [],
   "source": [
    "# 5. Write a program to demonstrate encapsulation by creating a class BankAccount.\n",
    "class BankAccount:\n",
    "    def __init__(self):\n",
    "        self.__balance = 0  # private attribute\n",
    "\n",
    "    def deposit(self, amount):\n",
    "        self.__balance += amount\n",
    "\n",
    "    def withdraw(self, amount):\n",
    "        if amount <= self.__balance:\n",
    "            self.__balance -= amount\n",
    "        else:\n",
    "            print(\"Insufficient funds\")\n",
    "\n",
    "    def check_balance(self):\n",
    "        return self.__balance\n"
   ]
  },
  {
   "cell_type": "code",
   "execution_count": 5,
   "id": "e5bbc210-a6b5-4203-9c86-96dcb1ee787f",
   "metadata": {},
   "outputs": [],
   "source": [
    "# 6. Demonstrate runtime polymorphism using a method play() in a base class Instrument.\n",
    "class Instrument:\n",
    "    def play(self):\n",
    "        pass\n",
    "\n",
    "class Guitar(Instrument):\n",
    "    def play(self):\n",
    "        print(\"Strumming the guitar\")\n",
    "\n",
    "class Piano(Instrument):\n",
    "    def play(self):\n",
    "        print(\"Playing the piano\")"
   ]
  },
  {
   "cell_type": "code",
   "execution_count": 6,
   "id": "56d4e4b1-5056-404f-8f0c-2871c424e7de",
   "metadata": {},
   "outputs": [],
   "source": [
    "# 7. Create a class MathOperations with a class method add_numbers() and a static method subtract_numbers().\n",
    "class MathOperations:\n",
    "    @classmethod\n",
    "    def add_numbers(cls, a, b):\n",
    "        return a + b\n",
    "\n",
    "    @staticmethod\n",
    "    def subtract_numbers(a, b):\n",
    "        return a - b\n"
   ]
  },
  {
   "cell_type": "code",
   "execution_count": 7,
   "id": "315a0cbf-fca6-4cdb-b3d5-936ac8b25fe2",
   "metadata": {},
   "outputs": [],
   "source": [
    "# 8. Implement a class Person with a class method to count the total number of persons created.\n",
    "class Person:\n",
    "    count = 0\n",
    "\n",
    "    def __init__(self):\n",
    "        Person.count += 1\n",
    "\n",
    "    @classmethod\n",
    "    def total_persons(cls):\n",
    "        return cls.count"
   ]
  },
  {
   "cell_type": "code",
   "execution_count": 8,
   "id": "25a286ce-aaf4-48fd-828c-aefbc0bbf0bd",
   "metadata": {},
   "outputs": [],
   "source": [
    "# 9. Write a class Fraction with attributes numerator and denominator.\n",
    "class Fraction:\n",
    "    def __init__(self, numerator, denominator):\n",
    "        self.numerator = numerator\n",
    "        self.denominator = denominator\n",
    "\n",
    "    def __str__(self):\n",
    "        return f\"{self.numerator}/{self.denominator}\""
   ]
  },
  {
   "cell_type": "code",
   "execution_count": 9,
   "id": "634083cf-4950-4187-a2ee-f072ab003678",
   "metadata": {},
   "outputs": [],
   "source": [
    "# 10. Demonstrate operator overloading by creating a class Vector.\n",
    "class Vector:\n",
    "    def __init__(self, x, y):\n",
    "        self.x = x\n",
    "        self.y = y\n",
    "\n",
    "    def __add__(self, other):\n",
    "        return Vector(self.x + other.x, self.y + other.y)\n",
    "\n",
    "    def __str__(self):\n",
    "        return f\"Vector({self.x}, {self.y})\""
   ]
  },
  {
   "cell_type": "code",
   "execution_count": 10,
   "id": "a178339b-5fae-4fb9-80e9-190cd957b89a",
   "metadata": {},
   "outputs": [],
   "source": [
    "# 11. Create a class Person with attributes name and age.\n",
    "class Person:\n",
    "    def __init__(self, name, age):\n",
    "        self.name = name\n",
    "        self.age = age\n",
    "\n",
    "    def greet(self):\n",
    "        print(f\"Hello, my name is {self.name} and I am {self.age} years old.\")"
   ]
  },
  {
   "cell_type": "code",
   "execution_count": 11,
   "id": "e911e067-f66b-4bd6-9987-dd3528383166",
   "metadata": {},
   "outputs": [],
   "source": [
    "# 12. Implement a class Student with attributes name and grades.\n",
    "class Student:\n",
    "    def __init__(self, name, grades):\n",
    "        self.name = name\n",
    "        self.grades = grades\n",
    "\n",
    "    def average_grade(self):\n",
    "        return sum(self.grades) / len(self.grades)"
   ]
  },
  {
   "cell_type": "code",
   "execution_count": 12,
   "id": "489ddda6-3d3e-4a5b-bd53-7d793210ecbe",
   "metadata": {},
   "outputs": [],
   "source": [
    "# 13. Create a class Rectangle with methods set_dimensions() and area().\n",
    "class Rectangle:\n",
    "    def __init__(self):\n",
    "        self.width = 0\n",
    "        self.height = 0\n",
    "\n",
    "    def set_dimensions(self, width, height):\n",
    "        self.width = width\n",
    "        self.height = height\n",
    "\n",
    "    def area(self):\n",
    "        return self.width * self.height"
   ]
  },
  {
   "cell_type": "code",
   "execution_count": 13,
   "id": "9e70d206-b64c-46bf-b6bb-d70520c1f04f",
   "metadata": {},
   "outputs": [],
   "source": [
    "# 14. Create a class Employee with a method calculate_salary().\n",
    "class Employee:\n",
    "    def __init__(self, hours_worked, hourly_rate):\n",
    "        self.hours_worked = hours_worked\n",
    "        self.hourly_rate = hourly_rate\n",
    "\n",
    "    def calculate_salary(self):\n",
    "        return self.hours_worked * self.hourly_rate"
   ]
  },
  {
   "cell_type": "code",
   "execution_count": 14,
   "id": "04dec1b0-2c07-4b56-8a90-b0003de8ac09",
   "metadata": {},
   "outputs": [],
   "source": [
    "# 15. Create a class Product with attributes name, price, and quantity.\n",
    "class Product:\n",
    "    def __init__(self, name, price, quantity):\n",
    "        self.name = name\n",
    "        self.price = price\n",
    "        self.quantity = quantity\n",
    "\n",
    "    def total_price(self):\n",
    "        return self.price * self.quantity"
   ]
  },
  {
   "cell_type": "code",
   "execution_count": 15,
   "id": "a064abca-7447-498f-9aec-90a72a3904f8",
   "metadata": {},
   "outputs": [],
   "source": [
    "# 16. Create a class Animal with an abstract method sound().\n",
    "class Animal(ABC):\n",
    "    @abstractmethod\n",
    "    def sound(self):\n",
    "        pass\n",
    "\n",
    "class Cow(Animal):\n",
    "    def sound(self):\n",
    "        return \"Moo\"\n",
    "\n",
    "class Sheep(Animal):\n",
    "    def sound(self):\n",
    "        return \"Baa\""
   ]
  },
  {
   "cell_type": "code",
   "execution_count": 16,
   "id": "d71fe61c-49a2-417e-a103-a3e093002505",
   "metadata": {},
   "outputs": [],
   "source": [
    "# 17. Create a class Book with attributes title, author, and year_published.\n",
    "class Book:\n",
    "    def __init__(self, title, author, year_published):\n",
    "        self.title = title\n",
    "        self.author = author\n",
    "        self.year_published = year_published\n",
    "\n",
    "    def get_book_info(self):\n",
    "        return f\"{self.title} by {self.author}, published in {self.year_published}\"\n"
   ]
  },
  {
   "cell_type": "code",
   "execution_count": 17,
   "id": "099af6c3-c75f-4ad8-b905-b4d934524533",
   "metadata": {},
   "outputs": [],
   "source": [
    "# 18. Create a class House with attributes address and price.\n",
    "class House:\n",
    "    def __init__(self, address, price):\n",
    "        self.address = address\n",
    "        self.price = price\n",
    "\n",
    "class Mansion(House):\n",
    "    def __init__(self, address, price, number_of_rooms):\n",
    "        super().__init__(address, price)\n",
    "        self.number_of_rooms = number_of_rooms"
   ]
  }
 ],
 "metadata": {
  "kernelspec": {
   "display_name": "Python 3 (ipykernel)",
   "language": "python",
   "name": "python3"
  },
  "language_info": {
   "codemirror_mode": {
    "name": "ipython",
    "version": 3
   },
   "file_extension": ".py",
   "mimetype": "text/x-python",
   "name": "python",
   "nbconvert_exporter": "python",
   "pygments_lexer": "ipython3",
   "version": "3.11.5"
  }
 },
 "nbformat": 4,
 "nbformat_minor": 5
}
